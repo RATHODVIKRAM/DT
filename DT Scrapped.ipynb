{
 "cells": [
  {
   "cell_type": "code",
   "execution_count": 7,
   "id": "59b7520d-02c7-4803-aa74-9fc8c27f16ac",
   "metadata": {},
   "outputs": [
    {
     "name": "stdout",
     "output_type": "stream",
     "text": [
      "Scraped Content:\n",
      "We built our name on providing generations of families with wholesome, great-tasting chicken. But today’s Tyson Foods is so much more. As values and behaviors around food have changed, so have we. Today, we’re innovators uniquely positioned to reshape what it means to feed our world. Today, we not only have the fastest-growing portfolio of protein-centric brands, but we also offer greater transparency in everything we do.\n"
     ]
    }
   ],
   "source": [
    "import requests\n",
    "from bs4 import BeautifulSoup\n",
    "\n",
    "url = \"https://www.tysonfoods.com/who-we-are\"\n",
    "\n",
    "response = requests.get(url)\n",
    "\n",
    "soup = BeautifulSoup(response.content, 'html.parser')\n",
    "\n",
    "data = soup.find('div', {'class':\"clearfix text-formatted field field--name-field-imageoffset-copy field--type-text-long field--label-hidden field__item\"})  # Adjust this based on actual class found\n",
    "\n",
    "if data:\n",
    "    content = data.get_text(strip=True)\n",
    "    print(\"Scraped Content:\")\n",
    "    print(content)\n",
    "else:\n",
    "    print(\"Couldn't find the desired section.\")\n",
    "\n"
   ]
  },
  {
   "cell_type": "code",
   "execution_count": null,
   "id": "1080f9da-0307-4fb8-9521-f85b8179a33b",
   "metadata": {},
   "outputs": [],
   "source": []
  }
 ],
 "metadata": {
  "kernelspec": {
   "display_name": "Python 3 (ipykernel)",
   "language": "python",
   "name": "python3"
  },
  "language_info": {
   "codemirror_mode": {
    "name": "ipython",
    "version": 3
   },
   "file_extension": ".py",
   "mimetype": "text/x-python",
   "name": "python",
   "nbconvert_exporter": "python",
   "pygments_lexer": "ipython3",
   "version": "3.12.4"
  }
 },
 "nbformat": 4,
 "nbformat_minor": 5
}
